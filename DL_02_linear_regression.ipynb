{
 "cells": [
  {
   "cell_type": "markdown",
   "metadata": {},
   "source": [
    "### 선형 회귀 모델\n",
    "- Y = wx + b(선형 방정식) 로 x 와 y를 모델링합니다\n"
   ]
  },
  {
   "cell_type": "code",
   "execution_count": 27,
   "metadata": {},
   "outputs": [],
   "source": [
    "import numpy as np\n",
    "import tensorflow as tf\n",
    "import matplotlib.pyplot as plt"
   ]
  },
  {
   "cell_type": "code",
   "execution_count": 2,
   "metadata": {},
   "outputs": [],
   "source": [
    "x = [10, 9, 3, 2]  #공부 시간\n",
    "y = [90, 80, 50, 30] #점수 \n",
    "\n",
    "#목표 : y = w * x + b 로 모델링해서 가장 최적(오차가 가장 작은) 의 w, b 값을 알아내기"
   ]
  },
  {
   "cell_type": "code",
   "execution_count": 3,
   "metadata": {},
   "outputs": [],
   "source": [
    "from sklearn.linear_model import LinearRegression"
   ]
  },
  {
   "cell_type": "code",
   "execution_count": 4,
   "metadata": {},
   "outputs": [
    {
     "data": {
      "text/plain": [
       "0.9573626373626374"
      ]
     },
     "execution_count": 4,
     "metadata": {},
     "output_type": "execute_result"
    }
   ],
   "source": [
    "x = np.array(x).reshape([-1, 1]) # 특징이 1개\n",
    "model = LinearRegression().fit(x, y)\n",
    "model.score(x, y) # 결정계수 "
   ]
  },
  {
   "cell_type": "code",
   "execution_count": 5,
   "metadata": {},
   "outputs": [
    {
     "data": {
      "text/plain": [
       "(array([6.6]), 22.899999999999984)"
      ]
     },
     "execution_count": 5,
     "metadata": {},
     "output_type": "execute_result"
    }
   ],
   "source": [
    "model.coef_, model.intercept_  # 계수, 절편"
   ]
  },
  {
   "cell_type": "code",
   "execution_count": 32,
   "metadata": {},
   "outputs": [
    {
     "data": {
      "text/plain": [
       "array([88.9, 82.3, 42.7, 36.1])"
      ]
     },
     "execution_count": 32,
     "metadata": {},
     "output_type": "execute_result"
    }
   ],
   "source": [
    "h = model.coef_ * x + model.intercept_ # h(hyperthesis 예측)\n",
    "h"
   ]
  },
  {
   "cell_type": "code",
   "execution_count": 38,
   "metadata": {},
   "outputs": [
    {
     "data": {
      "text/plain": [
       "[<matplotlib.lines.Line2D at 0x1e989cdaac8>]"
      ]
     },
     "execution_count": 38,
     "metadata": {},
     "output_type": "execute_result"
    },
    {
     "data": {
      "image/png": "[encoded data removed]",
      "text/plain": [
       "<Figure size 216x72 with 1 Axes>"
      ]
     },
     "metadata": {
      "needs_background": "light"
     },
     "output_type": "display_data"
    }
   ],
   "source": [
    "f"
   ]
  },
  {
   "cell_type": "code",
   "execution_count": 7,
   "metadata": {
    "scrolled": true
   },
   "outputs": [
    {
     "data": {
      "text/plain": [
       "24.250000000000014"
      ]
     },
     "execution_count": 7,
     "metadata": {},
     "output_type": "execute_result"
    }
   ],
   "source": [
    "#h[:, 0] - y # 오차 \n",
    "np.mean( (h[:, 0] - y) ** 2) # MSE: Mean Square Error "
   ]
  },
  {
   "cell_type": "markdown",
   "metadata": {},
   "source": [
    "이 작업을 전부 텐서플로 API 를 이용해 직접 구현합니다"
   ]
  },
  {
   "cell_type": "code",
   "execution_count": 1123,
   "metadata": {},
   "outputs": [],
   "source": [
    "# 필요한 연산들을 정의\n",
    "X = tf.placeholder(tf.float32, shape=[4])\n",
    "Y = tf.placeholder(tf.float32, shape=[4])\n",
    "w = tf.Variable(-10.0) #초기값, Variable 은 초기화가 필요합니다\n",
    "b = tf.Variable(100.0)\n",
    "h = w * X + b\n",
    "cost = tf.reduce_mean((h - y) ** 2) #MSE\n",
    "optimizer = tf.train.GradientDescentOptimizer(learning_rate=0.01) # 최적화 해주는 방법으로 경사하강법\n",
    "train = optimizer.minimize(cost)# 옵티마이저에게 cost 를 최소화하라고 시킵니다\n",
    "sess = tf.Session()\n",
    "sess.run(tf.global_variables_initializer()) # global 모든, 전역 "
   ]
  },
  {
   "cell_type": "code",
   "execution_count": 1124,
   "metadata": {},
   "outputs": [
    {
     "data": {
      "text/plain": [
       "((4,), (4,))"
      ]
     },
     "execution_count": 1124,
     "metadata": {},
     "output_type": "execute_result"
    }
   ],
   "source": [
    "x = np.reshape(x, [-1])\n",
    "y = np.array(y)\n",
    "x.shape, y.shape"
   ]
  },
  {
   "cell_type": "code",
   "execution_count": 1137,
   "metadata": {},
   "outputs": [
    {
     "name": "stdout",
     "output_type": "stream",
     "text": [
      "445.62372 1.5972329 63.127396\n"
     ]
    },
    {
     "data": {
      "image/png": "[encoded data removed]",
      "text/plain": [
       "<Figure size 216x72 with 1 Axes>"
      ]
     },
     "metadata": {
      "needs_background": "light"
     },
     "output_type": "display_data"
    }
   ],
   "source": [
    "for i in range(10):\n",
    "    _, _h, _cost, _w, _b = sess.run([train, h, cost, w, b], {X:x, Y:y})\n",
    "print(_cost, _w, _b)\n",
    "\n",
    "import matplotlib.pyplot as plt\n",
    "plt.figure(figsize=(3,1)) \n",
    "plt.scatter(x, y)\n",
    "p = plt.plot(_w * np.arange(15) + _b)"
   ]
  },
  {
   "cell_type": "code",
   "execution_count": null,
   "metadata": {},
   "outputs": [],
   "source": []
  }
 ],
 "metadata": {
  "kernelspec": {
   "display_name": "Python 3",
   "language": "python",
   "name": "python3"
  },
  "language_info": {
   "codemirror_mode": {
    "name": "ipython",
    "version": 3
   },
   "file_extension": ".py",
   "mimetype": "text/x-python",
   "name": "python",
   "nbconvert_exporter": "python",
   "pygments_lexer": "ipython3",
   "version": "3.7.3"
  }
 },
 "nbformat": 4,
 "nbformat_minor": 2
}
