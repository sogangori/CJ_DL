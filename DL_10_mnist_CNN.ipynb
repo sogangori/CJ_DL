{
 "cells": [
  {
   "cell_type": "code",
   "execution_count": 8,
   "metadata": {},
   "outputs": [],
   "source": [
    "import numpy as np\n",
    "import tensorflow as tf\n",
    "import tensorflow.contrib.slim as slim\n",
    "from sklearn.metrics import classification_report\n",
    "from sklearn.metrics import accuracy_score\n",
    "from tensorflow.examples.tutorials.mnist import input_data"
   ]
  },
  {
   "cell_type": "code",
   "execution_count": 6,
   "metadata": {
    "scrolled": true
   },
   "outputs": [
    {
     "name": "stdout",
     "output_type": "stream",
     "text": [
      "Extracting MNIST_data/train-images-idx3-ubyte.gz\n",
      "Extracting MNIST_data/train-labels-idx1-ubyte.gz\n",
      "Extracting MNIST_data/t10k-images-idx3-ubyte.gz\n",
      "Extracting MNIST_data/t10k-labels-idx1-ubyte.gz\n"
     ]
    },
    {
     "data": {
      "text/plain": [
       "((55000, 28, 28, 1), (10000, 28, 28, 1))"
      ]
     },
     "execution_count": 6,
     "metadata": {},
     "output_type": "execute_result"
    }
   ],
   "source": [
    "mnist = input_data.read_data_sets(\"MNIST_data/\")\n",
    "x_train = mnist.train.images.reshape([-1, 28, 28, 1]) # (m, h, w, c)\n",
    "y_train = mnist.train.labels\n",
    "x_test = mnist.test.images.reshape([-1, 28, 28, 1])\n",
    "y_test = mnist.test.labels\n",
    "x_train.shape, x_test.shape"
   ]
  },
  {
   "cell_type": "markdown",
   "metadata": {},
   "source": [
    "레이어와 레이어 사이에는 반드시 비선형 함수가 존재해야 합니다.\n",
    "sigmoid : 비선형함수\n",
    "tf.nn.relu : max(0, x) : 비선형함수\n",
    "y = ax  \n",
    "y = (relu(ax)) * b # ax : 히든레이어\n",
    "y = (sigmoid(ax * b)) * c # ax * b : 2번째 히든레이어\n",
    "y = (a*b*c) * x ... 와 같이 비선형 함수가 없다면 선형함수를 여러번 적용하는 것이 의미가 없습니다"
   ]
  },
  {
   "cell_type": "code",
   "execution_count": null,
   "metadata": {},
   "outputs": [],
   "source": [
    "X = tf.placeholder(tf.float32, [None, 28, 28, 1])\n",
    "Y = tf.placeholder(tf.int32, [None])\n",
    "net = slim.convolution2d(X, num_outputs=16, activation_fn=tf.nn.relu, kernel_size=[3,3])\n",
    "net = slim.max_pool2d(net, kernel_size=[2,2])\n",
    "net = slim.convolution2d(net, num_outputs=32, kernel_size=[3,3])\n",
    "net = slim.max_pool2d(net, kernel_size=[2,2])#(?, 7, 7, 32)\n",
    "net = slim.flatten(net)#(?, 1568)\n",
    "net = slim.fully_connected(net, num_outputs=16)\n",
    "z = slim.fully_connected(net, num_outputs=10)#(?, 10) # 점수, 가능성\n",
    "h = tf.nn.softmax(z)#점수를 확률로 변환 \n",
    "cost = tf.nn.sparse_softmax_cross_entropy_with_logits(labels=Y, logits=z)\n",
    "cost = tf.reduce_mean(cost)\n",
    "train = tf.train.GradientDescentOptimizer(0.5).minimize(cost)\n",
    "sess = tf.Session()\n",
    "sess.run(tf.global_variables_initializer())"
   ]
  },
  {
   "cell_type": "code",
   "execution_count": 27,
   "metadata": {},
   "outputs": [
    {
     "name": "stdout",
     "output_type": "stream",
     "text": [
      "0 2.3158543\n",
      "1 2.2854419\n",
      "2 2.2713935\n",
      "3 2.2516112\n",
      "4 2.221166\n"
     ]
    },
    {
     "data": {
      "text/plain": [
       "(2.221166, 0.2334)"
      ]
     },
     "execution_count": 27,
     "metadata": {},
     "output_type": "execute_result"
    }
   ],
   "source": [
    "for i in range(5): #모델이 커졌으면 반복횟수도 늘려야 합니다.\n",
    "    _, _cost = sess.run([train, cost], {X:x_train, Y:y_train})\n",
    "    print(i, _cost)\n",
    "p = np.argmax( sess.run(h, {X:x_train} ) , axis=-1)\n",
    "_cost, accuracy_score(y_train, p)"
   ]
  },
  {
   "cell_type": "code",
   "execution_count": 29,
   "metadata": {},
   "outputs": [
    {
     "data": {
      "text/plain": [
       "0.2264"
      ]
     },
     "execution_count": 29,
     "metadata": {},
     "output_type": "execute_result"
    }
   ],
   "source": [
    "p = np.argmax( sess.run(h, {X:x_test} ) , axis=-1)\n",
    "accuracy_score(y_test, p)"
   ]
  },
  {
   "cell_type": "code",
   "execution_count": 30,
   "metadata": {},
   "outputs": [
    {
     "name": "stdout",
     "output_type": "stream",
     "text": [
      "              precision    recall  f1-score   support\n",
      "\n",
      "           0       0.15      1.00      0.27       980\n",
      "           1       0.99      0.47      0.64      1135\n",
      "           2       0.00      0.00      0.00      1032\n",
      "           3       0.88      0.05      0.09      1010\n",
      "           4       0.00      0.00      0.00       982\n",
      "           5       0.00      0.00      0.00       892\n",
      "           6       0.23      0.73      0.35       958\n",
      "           7       0.00      0.00      0.00      1028\n",
      "           8       0.00      0.00      0.00       974\n",
      "           9       0.00      0.00      0.00      1009\n",
      "\n",
      "   micro avg       0.23      0.23      0.23     10000\n",
      "   macro avg       0.23      0.23      0.14     10000\n",
      "weighted avg       0.24      0.23      0.14     10000\n",
      "\n"
     ]
    },
    {
     "name": "stderr",
     "output_type": "stream",
     "text": [
      "C:\\Users\\User\\Anaconda3\\lib\\site-packages\\sklearn\\metrics\\classification.py:1143: UndefinedMetricWarning: Precision and F-score are ill-defined and being set to 0.0 in labels with no predicted samples.\n",
      "  'precision', 'predicted', average, warn_for)\n"
     ]
    }
   ],
   "source": [
    "print(classification_report(y_test, p))"
   ]
  }
 ],
 "metadata": {
  "kernelspec": {
   "display_name": "Python 3",
   "language": "python",
   "name": "python3"
  },
  "language_info": {
   "codemirror_mode": {
    "name": "ipython",
    "version": 3
   },
   "file_extension": ".py",
   "mimetype": "text/x-python",
   "name": "python",
   "nbconvert_exporter": "python",
   "pygments_lexer": "ipython3",
   "version": "3.7.3"
  }
 },
 "nbformat": 4,
 "nbformat_minor": 2
}
