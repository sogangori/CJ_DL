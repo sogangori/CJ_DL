{
 "cells": [
  {
   "cell_type": "markdown",
   "metadata": {},
   "source": [
    "- 편집 모드/명령 모드 : Enter / ESC\n",
    "- Run : 특수키 + Enter\n",
    "- 셀 지우기 : ESC, x\n",
    "- 셀 만들기 : ESC, b"
   ]
  },
  {
   "cell_type": "markdown",
   "metadata": {},
   "source": [
    "머신러닝 - 교사학습 / 비교사학습 / 강화학습\n",
    "- 교사학습 : X - Y 쌍, 성능측정이 가능하다. 데이터 양과 질에 비례해서 성능이 상승 \n",
    "- 비교사학습 : X 만 존재. 성능측정이 애매하다. 데이터만 있으면 할 수 있다.\n",
    "- 강화학습 : 환경(야구장과 상대편 선수들), 에이전트(나:타자), 행동(휘두르기),  보상(안타/아웃)"
   ]
  },
  {
   "cell_type": "markdown",
   "metadata": {},
   "source": [
    "교사학습\n",
    "- 선형회귀 : Y = WX + b, X,Y는 상수, W,b는 변수, Y:실수 ,MSE\n",
    "- 논리회귀 : Y = sigmoid(WX + b), Y:정수(0, 1) , Y:(0,1,2,3,4,5...) > 원핫인코딩 > (1,0,0,0,0,0), MSE / CE "
   ]
  },
  {
   "cell_type": "markdown",
   "metadata": {},
   "source": [
    "오늘의 목표\n",
    "- 멀티 클래스 분류\n",
    "- 뉴럴 네트워크 : 입력 레이어, 출력레이어 + 히든 레이어를 추가\n",
    "- CNN\n",
    "- RNN"
   ]
  },
  {
   "cell_type": "code",
   "execution_count": 4,
   "metadata": {},
   "outputs": [],
   "source": [
    "import numpy as np\n",
    "x = [1,2,3]\n",
    "y = [1.5, 2, 3] # 실수 : 예측용"
   ]
  },
  {
   "cell_type": "code",
   "execution_count": 5,
   "metadata": {},
   "outputs": [],
   "source": [
    "#정확도와 결정계수\n",
    "from sklearn.metrics import accuracy_score, r2_score"
   ]
  },
  {
   "cell_type": "code",
   "execution_count": 8,
   "metadata": {},
   "outputs": [
    {
     "data": {
      "text/plain": [
       "0.7857142857142857"
      ]
     },
     "execution_count": 8,
     "metadata": {},
     "output_type": "execute_result"
    }
   ],
   "source": [
    "r2_score(y, x)"
   ]
  },
  {
   "cell_type": "code",
   "execution_count": 121,
   "metadata": {},
   "outputs": [],
   "source": [
    "x = [140, 160, 175] # 키\n",
    "#y = [0, 1, 2] # 0:초, 1:중, 2:고 등학생\n",
    "y = [[1,0,0],[0,1,0],[0,0,1] ]"
   ]
  },
  {
   "cell_type": "code",
   "execution_count": 122,
   "metadata": {},
   "outputs": [
    {
     "data": {
      "text/plain": [
       "((3, 1), (3, 3))"
      ]
     },
     "execution_count": 122,
     "metadata": {},
     "output_type": "execute_result"
    }
   ],
   "source": [
    "x = np.array(x).reshape([-1, 1])\n",
    "y = np.array(y).reshape([-1, 3])\n",
    "x.shape, y.shape"
   ]
  },
  {
   "cell_type": "markdown",
   "metadata": {},
   "source": [
    "y = X W + b,  X (3,1) W(1,3) = (3,3)"
   ]
  },
  {
   "cell_type": "code",
   "execution_count": 100,
   "metadata": {},
   "outputs": [],
   "source": [
    "def ce(h, Y):\n",
    "    h = np.array(h)\n",
    "    Y = np.array(Y)\n",
    "    return - (Y*np.log(h) + (1-Y)*np.log(1-h) ) "
   ]
  },
  {
   "cell_type": "code",
   "execution_count": 103,
   "metadata": {},
   "outputs": [
    {
     "data": {
      "text/plain": [
       "array([0.10536052, 0.05129329, 0.05129329])"
      ]
     },
     "execution_count": 103,
     "metadata": {},
     "output_type": "execute_result"
    }
   ],
   "source": [
    "test_y = [1, 0, 0]\n",
    "test_h = [0.9, 0.05, 0.05]\n",
    "ce(test_h, test_y)"
   ]
  },
  {
   "cell_type": "code",
   "execution_count": 36,
   "metadata": {},
   "outputs": [],
   "source": [
    "import tensorflow as tf"
   ]
  },
  {
   "cell_type": "code",
   "execution_count": 208,
   "metadata": {},
   "outputs": [],
   "source": [
    "X = tf.placeholder(tf.float32, [None, 1])\n",
    "Y = tf.placeholder(tf.float32, [None, 3])\n",
    "W = tf.Variable(tf.random_normal(shape=[1, 3]))\n",
    "b = tf.Variable(tf.random_normal(shape=[3]))\n",
    "z = tf.matmul(X, W) + b\n",
    "h = tf.nn.softmax(z) # h 는 합이 1이 되는 확률, h=[0, 1]\n",
    "h = tf.maximum(1e-8, h)\n",
    "cost = - tf.reduce_mean(Y*tf.log(h) + (1-Y)*tf.log(1-h) )  # log(1) = 0, log(0) = -inf\n",
    "train = tf.train.GradientDescentOptimizer(0.1).minimize(cost)\n",
    "sess = tf.Session()\n",
    "sess.run(tf.global_variables_initializer())"
   ]
  },
  {
   "cell_type": "code",
   "execution_count": 241,
   "metadata": {},
   "outputs": [
    {
     "data": {
      "text/plain": [
       "0.27237937"
      ]
     },
     "execution_count": 241,
     "metadata": {},
     "output_type": "execute_result"
    }
   ],
   "source": [
    "for i in range(1000): # 에포크\n",
    "    _, _cost = sess.run([train, cost], {X:x/100, Y:y})\n",
    "_cost"
   ]
  },
  {
   "cell_type": "code",
   "execution_count": 246,
   "metadata": {},
   "outputs": [
    {
     "data": {
      "text/plain": [
       "array([[0.80078936, 0.1810095 , 0.01820117],\n",
       "       [0.20896098, 0.47306263, 0.31797633],\n",
       "       [0.02025887, 0.25820872, 0.7215324 ]], dtype=float32)"
      ]
     },
     "execution_count": 246,
     "metadata": {},
     "output_type": "execute_result"
    }
   ],
   "source": [
    "_h = sess.run(h, {X:x/100})\n",
    "_h"
   ]
  },
  {
   "cell_type": "code",
   "execution_count": 249,
   "metadata": {},
   "outputs": [
    {
     "data": {
      "text/plain": [
       "array([0, 1, 2], dtype=int64)"
      ]
     },
     "execution_count": 249,
     "metadata": {},
     "output_type": "execute_result"
    }
   ],
   "source": [
    "np.argmax( _h, axis=1)"
   ]
  },
  {
   "cell_type": "code",
   "execution_count": 251,
   "metadata": {},
   "outputs": [
    {
     "data": {
      "text/plain": [
       "array([0, 1, 2], dtype=int64)"
      ]
     },
     "execution_count": 251,
     "metadata": {},
     "output_type": "execute_result"
    }
   ],
   "source": [
    "np.argmax(y, axis=1) "
   ]
  },
  {
   "cell_type": "code",
   "execution_count": 252,
   "metadata": {},
   "outputs": [
    {
     "data": {
      "text/plain": [
       "1.0"
      ]
     },
     "execution_count": 252,
     "metadata": {},
     "output_type": "execute_result"
    }
   ],
   "source": [
    "accuracy_score(np.argmax(y, axis=1) , np.argmax( _h, axis=1)  )"
   ]
  },
  {
   "cell_type": "code",
   "execution_count": 65,
   "metadata": {},
   "outputs": [],
   "source": [
    "sample = np.array([3, 1, 0.1])"
   ]
  },
  {
   "cell_type": "code",
   "execution_count": 53,
   "metadata": {},
   "outputs": [],
   "source": [
    "def normalize(x):\n",
    "    return x / np.sum(x)\n",
    "def softmax(x):\n",
    "    z = np.exp(x) # 2.7 ** x\n",
    "    return z / np.sum(z)"
   ]
  },
  {
   "cell_type": "code",
   "execution_count": 89,
   "metadata": {},
   "outputs": [
    {
     "data": {
      "text/plain": [
       "<matplotlib.legend.Legend at 0x1e44cf287f0>"
      ]
     },
     "execution_count": 89,
     "metadata": {},
     "output_type": "execute_result"
    },
    {
     "data": {
      "image/png": "[encoded data removed]",
      "text/plain": [
       "<Figure size 432x288 with 1 Axes>"
      ]
     },
     "metadata": {
      "needs_background": "light"
     },
     "output_type": "display_data"
    }
   ],
   "source": [
    "import matplotlib.pyplot as plt\n",
    "arr = np.arange(-3, 3, 0.1)\n",
    "plt.scatter(arr, arr, label='basic')\n",
    "plt.scatter(arr, np.exp(arr),  label='exp')\n",
    "plt.legend()"
   ]
  },
  {
   "cell_type": "code",
   "execution_count": 66,
   "metadata": {},
   "outputs": [
    {
     "data": {
      "text/plain": [
       "array([0.73170732, 0.24390244, 0.02439024])"
      ]
     },
     "execution_count": 66,
     "metadata": {},
     "output_type": "execute_result"
    }
   ],
   "source": [
    "normalize(sample)"
   ]
  },
  {
   "cell_type": "code",
   "execution_count": 67,
   "metadata": {},
   "outputs": [
    {
     "data": {
      "text/plain": [
       "array([0.84008305, 0.11369288, 0.04622407])"
      ]
     },
     "execution_count": 67,
     "metadata": {},
     "output_type": "execute_result"
    }
   ],
   "source": [
    "softmax(sample)"
   ]
  },
  {
   "cell_type": "code",
   "execution_count": null,
   "metadata": {},
   "outputs": [],
   "source": []
  }
 ],
 "metadata": {
  "kernelspec": {
   "display_name": "Python 3",
   "language": "python",
   "name": "python3"
  },
  "language_info": {
   "codemirror_mode": {
    "name": "ipython",
    "version": 3
   },
   "file_extension": ".py",
   "mimetype": "text/x-python",
   "name": "python",
   "nbconvert_exporter": "python",
   "pygments_lexer": "ipython3",
   "version": "3.7.3"
  }
 },
 "nbformat": 4,
 "nbformat_minor": 2
}
