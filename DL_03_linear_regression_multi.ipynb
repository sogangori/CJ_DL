{
 "cells": [
  {
   "cell_type": "markdown",
   "metadata": {},
   "source": [
    "수정 모드 / 명령모드 : Enter / ESC\n",
    "실행 : 특수키 + Enter\n",
    "셀지우기 : ESC , X\n",
    "셀만들기 : ESC , B\n",
    "자동완성 : TAB\n",
    "함수인자 : shift + TAB"
   ]
  },
  {
   "cell_type": "code",
   "execution_count": 1,
   "metadata": {},
   "outputs": [],
   "source": [
    "import numpy as np\n",
    "import tensorflow as tf"
   ]
  },
  {
   "cell_type": "code",
   "execution_count": 52,
   "metadata": {},
   "outputs": [],
   "source": [
    "x = [[73,80,75], [93.5, 88, 93]]\n",
    "y = [152, 185]"
   ]
  },
  {
   "cell_type": "markdown",
   "metadata": {},
   "source": [
    "사이킷런의 LinearRegression 으로 피팅해서 스코어를 출력하세요\n",
    "Y = w1x1 + w2x2 + w3x3 + b\n",
    "Y = W*X + b ,  W = {w1, w2, ...wn},  X = {x1, x2, ... n}"
   ]
  },
  {
   "cell_type": "code",
   "execution_count": 53,
   "metadata": {},
   "outputs": [
    {
     "data": {
      "text/plain": [
       "(1.0, array([0.8369935 , 0.32663161, 0.73492113]), 9.649860810392767)"
      ]
     },
     "execution_count": 53,
     "metadata": {},
     "output_type": "execute_result"
    }
   ],
   "source": [
    "from sklearn.linear_model import LinearRegression\n",
    "model = LinearRegression().fit(x,y)\n",
    "model.score(x, y), model.coef_, model.intercept_"
   ]
  },
  {
   "cell_type": "markdown",
   "metadata": {},
   "source": [
    "텐서플로로 직접 구현해봅니다"
   ]
  },
  {
   "cell_type": "code",
   "execution_count": 54,
   "metadata": {},
   "outputs": [
    {
     "data": {
      "text/plain": [
       "((2, 3), (2,), dtype('float32'), dtype('float32'))"
      ]
     },
     "execution_count": 54,
     "metadata": {},
     "output_type": "execute_result"
    }
   ],
   "source": [
    "x = np.array(x).astype(np.float32)\n",
    "y = np.array(y).astype(np.float32)#.reshape([-1, 1])\n",
    "x.shape, y.shape, x.dtype, y.dtype"
   ]
  },
  {
   "cell_type": "code",
   "execution_count": 65,
   "metadata": {},
   "outputs": [],
   "source": [
    "# 모델 준비\n",
    "X = tf.placeholder(tf.float32, [2, 3])\n",
    "Y = tf.placeholder(tf.float32, [2])\n",
    "W = tf.Variable([1.0, 1.0, 1.0], dtype=tf.float32)\n",
    "b = tf.Variable(0, dtype=tf.float32)\n",
    "h = tf.reduce_sum(W * X + b, axis=1) \n",
    "cost = tf.reduce_mean( (h - Y) **2 ) \n",
    "train = tf.train.GradientDescentOptimizer(0.000001).minimize(cost)\n",
    "sess = tf.Session()\n",
    "sess.run(tf.global_variables_initializer())"
   ]
  },
  {
   "cell_type": "code",
   "execution_count": 326,
   "metadata": {},
   "outputs": [
    {
     "data": {
      "text/plain": [
       "(0.68951386,\n",
       " array([0.6802677 , 0.65952086, 0.6735964 ], dtype=float32),\n",
       " -0.012562686)"
      ]
     },
     "execution_count": 326,
     "metadata": {},
     "output_type": "execute_result"
    }
   ],
   "source": [
    "for i in range(100):\n",
    "    _, _cost, _w, _b = sess.run([train, cost, W, b], {X:x, Y:y})\n",
    "_cost, _w, _b"
   ]
  },
  {
   "cell_type": "code",
   "execution_count": 327,
   "metadata": {},
   "outputs": [],
   "source": [
    "from sklearn.metrics import r2_score #예측은 결정계수로 성능 측정"
   ]
  },
  {
   "cell_type": "code",
   "execution_count": 331,
   "metadata": {},
   "outputs": [
    {
     "data": {
      "text/plain": [
       "0.99746753580533"
      ]
     },
     "execution_count": 331,
     "metadata": {},
     "output_type": "execute_result"
    }
   ],
   "source": [
    "r2_score(y, sess.run(h, {X:x, Y:y}))"
   ]
  },
  {
   "cell_type": "code",
   "execution_count": null,
   "metadata": {},
   "outputs": [],
   "source": []
  }
 ],
 "metadata": {
  "kernelspec": {
   "display_name": "Python 3",
   "language": "python",
   "name": "python3"
  },
  "language_info": {
   "codemirror_mode": {
    "name": "ipython",
    "version": 3
   },
   "file_extension": ".py",
   "mimetype": "text/x-python",
   "name": "python",
   "nbconvert_exporter": "python",
   "pygments_lexer": "ipython3",
   "version": "3.7.3"
  }
 },
 "nbformat": 4,
 "nbformat_minor": 2
}
